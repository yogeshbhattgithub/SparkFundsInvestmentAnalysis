{
 "cells": [
  {
   "cell_type": "markdown",
   "metadata": {},
   "source": [
    "# Checkpoint 1 - Data Cleaning 1\n",
    "\n",
    "### Reading the files and storing the result in two DataFrames : companies and rounds2\n"
   ]
  },
  {
   "cell_type": "code",
   "execution_count": 352,
   "metadata": {},
   "outputs": [
    {
     "data": {
      "text/html": [
       "<div>\n",
       "<style scoped>\n",
       "    .dataframe tbody tr th:only-of-type {\n",
       "        vertical-align: middle;\n",
       "    }\n",
       "\n",
       "    .dataframe tbody tr th {\n",
       "        vertical-align: top;\n",
       "    }\n",
       "\n",
       "    .dataframe thead th {\n",
       "        text-align: right;\n",
       "    }\n",
       "</style>\n",
       "<table border=\"1\" class=\"dataframe\">\n",
       "  <thead>\n",
       "    <tr style=\"text-align: right;\">\n",
       "      <th></th>\n",
       "      <th>company_permalink</th>\n",
       "      <th>funding_round_permalink</th>\n",
       "      <th>funding_round_type</th>\n",
       "      <th>funding_round_code</th>\n",
       "      <th>funding_at</th>\n",
       "      <th>raised_amount_usd</th>\n",
       "    </tr>\n",
       "  </thead>\n",
       "  <tbody>\n",
       "    <tr>\n",
       "      <th>1</th>\n",
       "      <td>/organization/-fame</td>\n",
       "      <td>/funding-round/9a01d05418af9f794eebff7ace91f638</td>\n",
       "      <td>venture</td>\n",
       "      <td>B</td>\n",
       "      <td>05-01-2015</td>\n",
       "      <td>10000000</td>\n",
       "    </tr>\n",
       "    <tr>\n",
       "      <th>2</th>\n",
       "      <td>/ORGANIZATION/-QOUNTER</td>\n",
       "      <td>/funding-round/22dacff496eb7acb2b901dec1dfe5633</td>\n",
       "      <td>venture</td>\n",
       "      <td>A</td>\n",
       "      <td>14-10-2014</td>\n",
       "      <td>NaN</td>\n",
       "    </tr>\n",
       "    <tr>\n",
       "      <th>3</th>\n",
       "      <td>/organization/-qounter</td>\n",
       "      <td>/funding-round/b44fbb94153f6cdef13083530bb48030</td>\n",
       "      <td>seed</td>\n",
       "      <td>NaN</td>\n",
       "      <td>01-03-2014</td>\n",
       "      <td>700000</td>\n",
       "    </tr>\n",
       "    <tr>\n",
       "      <th>4</th>\n",
       "      <td>/ORGANIZATION/-THE-ONE-OF-THEM-INC-</td>\n",
       "      <td>/funding-round/650b8f704416801069bb178a1418776b</td>\n",
       "      <td>venture</td>\n",
       "      <td>B</td>\n",
       "      <td>30-01-2014</td>\n",
       "      <td>3406878</td>\n",
       "    </tr>\n",
       "    <tr>\n",
       "      <th>5</th>\n",
       "      <td>/organization/0-6-com</td>\n",
       "      <td>/funding-round/5727accaeaa57461bd22a9bdd945382d</td>\n",
       "      <td>venture</td>\n",
       "      <td>A</td>\n",
       "      <td>19-03-2008</td>\n",
       "      <td>2000000</td>\n",
       "    </tr>\n",
       "  </tbody>\n",
       "</table>\n",
       "</div>"
      ],
      "text/plain": [
       "                     company_permalink  \\\n",
       "1                  /organization/-fame   \n",
       "2               /ORGANIZATION/-QOUNTER   \n",
       "3               /organization/-qounter   \n",
       "4  /ORGANIZATION/-THE-ONE-OF-THEM-INC-   \n",
       "5                /organization/0-6-com   \n",
       "\n",
       "                           funding_round_permalink funding_round_type  \\\n",
       "1  /funding-round/9a01d05418af9f794eebff7ace91f638            venture   \n",
       "2  /funding-round/22dacff496eb7acb2b901dec1dfe5633            venture   \n",
       "3  /funding-round/b44fbb94153f6cdef13083530bb48030               seed   \n",
       "4  /funding-round/650b8f704416801069bb178a1418776b            venture   \n",
       "5  /funding-round/5727accaeaa57461bd22a9bdd945382d            venture   \n",
       "\n",
       "  funding_round_code  funding_at raised_amount_usd  \n",
       "1                  B  05-01-2015          10000000  \n",
       "2                  A  14-10-2014               NaN  \n",
       "3                NaN  01-03-2014            700000  \n",
       "4                  B  30-01-2014           3406878  \n",
       "5                  A  19-03-2008           2000000  "
      ]
     },
     "execution_count": 352,
     "metadata": {},
     "output_type": "execute_result"
    }
   ],
   "source": [
    "#Load the companies and rounds data into two data frames and name them companies and rounds2 respectively\n",
    "import pandas as pd\n",
    "companies = pd.read_csv('./IIITB/InvestmentAssignment/companies.txt', encoding = \"ISO-8859-1\", sep=\"\\t\", names=[\"permalink\", \"name\", \"homepage_url\", \"category_list\",\"status\",\"country_code\",\"state_code\",\"region\",\"city\",\"founded_at\"])\n",
    "companies.drop(companies.index[0],inplace=True) #removing the first row as it is header\n",
    "rounds2 = pd.read_csv('./IIITB/InvestmentAssignment/rounds2.csv',encoding = \"ISO-8859-5\", sep=\",\",names=[\"company_permalink\",\"funding_round_permalink\",\"funding_round_type\",\"funding_round_code\",\"funding_at\",\"raised_amount_usd\"])\n",
    "rounds2.drop(rounds2.index[0],inplace=True) #removing the first row as it is header\n",
    "rounds2.head()\n"
   ]
  },
  {
   "cell_type": "markdown",
   "metadata": {},
   "source": [
    "\n"
   ]
  },
  {
   "cell_type": "markdown",
   "metadata": {},
   "source": [
    "### How many unique companies are present in rounds2?\n",
    "Answer - 90247"
   ]
  },
  {
   "cell_type": "code",
   "execution_count": 353,
   "metadata": {},
   "outputs": [
    {
     "data": {
      "text/plain": [
       "90247"
      ]
     },
     "execution_count": 353,
     "metadata": {},
     "output_type": "execute_result"
    }
   ],
   "source": [
    "len(rounds2['company_permalink'].unique().tolist())\n",
    "\n"
   ]
  },
  {
   "cell_type": "markdown",
   "metadata": {},
   "source": [
    "### How many unique companies are present in the companies file?\n",
    "Answer - 66368"
   ]
  },
  {
   "cell_type": "code",
   "execution_count": 354,
   "metadata": {},
   "outputs": [
    {
     "data": {
      "text/plain": [
       "66368"
      ]
     },
     "execution_count": 354,
     "metadata": {},
     "output_type": "execute_result"
    }
   ],
   "source": [
    "len(companies['permalink'].unique().tolist())"
   ]
  },
  {
   "cell_type": "markdown",
   "metadata": {},
   "source": [
    "### Are there any companies in the rounds2 file which are not  present in companies ? \n",
    "Answer Y . There are 74 such companies"
   ]
  },
  {
   "cell_type": "code",
   "execution_count": 355,
   "metadata": {
    "scrolled": true
   },
   "outputs": [
    {
     "data": {
      "text/plain": [
       "74"
      ]
     },
     "execution_count": 355,
     "metadata": {},
     "output_type": "execute_result"
    }
   ],
   "source": [
    "rounds2InCompanies=rounds2.company_permalink.str.lower().isin(companies.permalink.str.lower())\n",
    "\n",
    "countFalseValues=lambda x: 1 if x==False else 0\n",
    "rounds2InCompanies.apply(countFalseValues).sum() # sum the values where countFalseValues is 1\n",
    "\n"
   ]
  },
  {
   "cell_type": "markdown",
   "metadata": {},
   "source": [
    "### Merge the two data frames so that all  variables (columns)  in the companies frame are added to the rounds2 data frame. Name the merged frame master_frame. How many observations are present in master_frame ?\n",
    "\n",
    "Answer - 114875"
   ]
  },
  {
   "cell_type": "code",
   "execution_count": 356,
   "metadata": {},
   "outputs": [
    {
     "name": "stdout",
     "output_type": "stream",
     "text": [
      "114875\n"
     ]
    },
    {
     "data": {
      "text/plain": [
       "permalink                  114875\n",
       "name                       114874\n",
       "homepage_url               108749\n",
       "category_list              111488\n",
       "status                     114875\n",
       "country_code               106238\n",
       "state_code                 103972\n",
       "region                     104749\n",
       "city                       104752\n",
       "founded_at                  94387\n",
       "funding_round_permalink    114875\n",
       "funding_round_type         114875\n",
       "funding_round_code          31132\n",
       "funding_at                 114875\n",
       "raised_amount_usd           94915\n",
       "dtype: int64"
      ]
     },
     "execution_count": 356,
     "metadata": {},
     "output_type": "execute_result"
    }
   ],
   "source": [
    "#Changing the column name of company_permalink to permalink , so that we have a key to merge the Dataframes\n",
    "rounds2.rename(columns={\"company_permalink\":\"permalink\"},inplace = True) \n",
    "companies['permalink'] = companies['permalink'].str.lower()\n",
    "rounds2['permalink'] = rounds2['permalink'].str.lower()\n",
    "master_frame = pd.merge(companies, rounds2, how='inner', on='permalink')\n",
    "print(len(master_frame))\n",
    "master_frame.count()\n",
    "\n"
   ]
  },
  {
   "cell_type": "markdown",
   "metadata": {},
   "source": [
    "### Since the count of non null values for funding_round_code and  is less than 60% of the length of the master_frame , thus we are dropping the column"
   ]
  },
  {
   "cell_type": "code",
   "execution_count": 357,
   "metadata": {},
   "outputs": [],
   "source": [
    "master_frame.drop('funding_round_code',axis=1,inplace=True)\n"
   ]
  },
  {
   "cell_type": "markdown",
   "metadata": {},
   "source": [
    "# Checkpoint 2: Funding Type Analysis"
   ]
  },
  {
   "cell_type": "markdown",
   "metadata": {},
   "source": [
    "### Average funding amount of venture type\n"
   ]
  },
  {
   "cell_type": "code",
   "execution_count": 358,
   "metadata": {},
   "outputs": [
    {
     "name": "stdout",
     "output_type": "stream",
     "text": [
      "10635651.472583726\n"
     ]
    }
   ],
   "source": [
    "master_frame.fillna(0,inplace=True)\n",
    "master_frame['raised_amount_usd']=master_frame['raised_amount_usd'].astype(float)\n",
    "funding_round_type_venture=master_frame['funding_round_type']=='venture'\n",
    "mean_for_venture_type = master_frame.loc[funding_round_type_venture, 'raised_amount_usd'].mean()\n",
    "print(mean_for_venture_type)"
   ]
  },
  {
   "cell_type": "markdown",
   "metadata": {},
   "source": [
    "### Average funding amount of angel type"
   ]
  },
  {
   "cell_type": "code",
   "execution_count": 359,
   "metadata": {},
   "outputs": [
    {
     "name": "stdout",
     "output_type": "stream",
     "text": [
      "764940.9165982597\n"
     ]
    }
   ],
   "source": [
    "funding_round_type_angel=master_frame['funding_round_type']=='angel'\n",
    "mean_for_angel_type=master_frame.loc[funding_round_type_angel,'raised_amount_usd'].mean()\n",
    "print(mean_for_angel_type)"
   ]
  },
  {
   "cell_type": "markdown",
   "metadata": {},
   "source": [
    "### Average funding amount of seed type"
   ]
  },
  {
   "cell_type": "code",
   "execution_count": 360,
   "metadata": {},
   "outputs": [
    {
     "name": "stdout",
     "output_type": "stream",
     "text": [
      "556818.210553934\n"
     ]
    }
   ],
   "source": [
    "funding_round_type_seed=master_frame['funding_round_type']=='seed'\n",
    "mean_for_seed_type=master_frame.loc[funding_round_type_seed,'raised_amount_usd'].mean()\n",
    "print(mean_for_seed_type)"
   ]
  },
  {
   "cell_type": "markdown",
   "metadata": {},
   "source": [
    "### Average funding type of private equity type"
   ]
  },
  {
   "cell_type": "code",
   "execution_count": 361,
   "metadata": {},
   "outputs": [
    {
     "name": "stdout",
     "output_type": "stream",
     "text": [
      "62134732.25350263\n"
     ]
    }
   ],
   "source": [
    "funding_round_type_private_equity=master_frame['funding_round_type']=='private_equity'\n",
    "mean_for_private_equity_type=master_frame.loc[funding_round_type_private_equity,'raised_amount_usd'].astype(float).mean()\n",
    "print(mean_for_private_equity_type)"
   ]
  },
  {
   "cell_type": "markdown",
   "metadata": {},
   "source": [
    "### Considering that Spark Funds wants to invest between 5 to 15 million USD per  investment round, which investment type is the most suitable for them?\n",
    "\n",
    "Answer : Venture . Code shared below "
   ]
  },
  {
   "cell_type": "code",
   "execution_count": 362,
   "metadata": {},
   "outputs": [
    {
     "name": "stdout",
     "output_type": "stream",
     "text": [
      "venture\n"
     ]
    }
   ],
   "source": [
    "# Storing the means in a list in the same order as mentioned in the dictionary\n",
    "dict_fundingType={0:\"venture\",1:\"angel\",2:\"seed\",3:\"private_equity\"}\n",
    "#defining a lambda function withing range to identify whether the investment is between 5-15 million\n",
    "withinrange=lambda x: 1 if (x>5000000 and x<15000000 )else 0\n",
    "list_fundingType_means=[mean_for_venture_type,mean_for_angel_type,mean_for_seed_type,mean_for_private_equity_type]\n",
    "greater=list_fundingType_means[0]\n",
    "index=0\n",
    "for x in list_fundingType_means:\n",
    "    if withinrange(x)==1 and x>greater :\n",
    "        greater=x\n",
    "        index=x.index()\n",
    "\n",
    "print(dict_fundingType[index]) #printing the value of the index that meets the business criterian mentioned above\n",
    "\n",
    "        \n",
    "        \n"
   ]
  },
  {
   "cell_type": "markdown",
   "metadata": {},
   "source": [
    "# Checkpoint 3: Country Analysis"
   ]
  },
  {
   "cell_type": "code",
   "execution_count": 363,
   "metadata": {},
   "outputs": [
    {
     "data": {
      "text/html": [
       "<div>\n",
       "<style scoped>\n",
       "    .dataframe tbody tr th:only-of-type {\n",
       "        vertical-align: middle;\n",
       "    }\n",
       "\n",
       "    .dataframe tbody tr th {\n",
       "        vertical-align: top;\n",
       "    }\n",
       "\n",
       "    .dataframe thead th {\n",
       "        text-align: right;\n",
       "    }\n",
       "</style>\n",
       "<table border=\"1\" class=\"dataframe\">\n",
       "  <thead>\n",
       "    <tr style=\"text-align: right;\">\n",
       "      <th></th>\n",
       "      <th>raised_amount_usd</th>\n",
       "      <th>population</th>\n",
       "    </tr>\n",
       "    <tr>\n",
       "      <th>country_code</th>\n",
       "      <th></th>\n",
       "      <th></th>\n",
       "    </tr>\n",
       "  </thead>\n",
       "  <tbody>\n",
       "    <tr>\n",
       "      <th>IND</th>\n",
       "      <td>2.768634e+10</td>\n",
       "      <td>1247540000</td>\n",
       "    </tr>\n",
       "    <tr>\n",
       "      <th>USA</th>\n",
       "      <td>6.694814e+11</td>\n",
       "      <td>325719178</td>\n",
       "    </tr>\n",
       "    <tr>\n",
       "      <th>GBR</th>\n",
       "      <td>3.276689e+10</td>\n",
       "      <td>66040229</td>\n",
       "    </tr>\n",
       "  </tbody>\n",
       "</table>\n",
       "</div>"
      ],
      "text/plain": [
       "              raised_amount_usd  population\n",
       "country_code                               \n",
       "IND                2.768634e+10  1247540000\n",
       "USA                6.694814e+11   325719178\n",
       "GBR                3.276689e+10    66040229"
      ]
     },
     "execution_count": 363,
     "metadata": {},
     "output_type": "execute_result"
    }
   ],
   "source": [
    "condition= master_frame.country_code!=0  # data Cleaning - removing the rows where country_code is 0 \n",
    "master_frame.where(cond=condition,inplace=True)\n",
    "\n",
    "top9=pd.DataFrame(master_frame.groupby(['country_code']).raised_amount_usd.sum())\n",
    "top9.sort_values(by='raised_amount_usd',ascending=False,inplace=True)\n",
    "top9=top9.head(9)\n",
    "population = [325719178,0,66040229,1247540000,35985751,0,0,8051200,0]\n",
    "top9['population']=population\n",
    "top9.sort_values(by='population',ascending=False,inplace=True)\n",
    "top9.head(3)\n",
    "\n"
   ]
  },
  {
   "cell_type": "markdown",
   "metadata": {},
   "source": [
    "# Checkpoint 4: Sector Analysis 1"
   ]
  },
  {
   "cell_type": "code",
   "execution_count": 364,
   "metadata": {},
   "outputs": [
    {
     "data": {
      "text/html": [
       "<div>\n",
       "<style scoped>\n",
       "    .dataframe tbody tr th:only-of-type {\n",
       "        vertical-align: middle;\n",
       "    }\n",
       "\n",
       "    .dataframe tbody tr th {\n",
       "        vertical-align: top;\n",
       "    }\n",
       "\n",
       "    .dataframe thead th {\n",
       "        text-align: right;\n",
       "    }\n",
       "</style>\n",
       "<table border=\"1\" class=\"dataframe\">\n",
       "  <thead>\n",
       "    <tr style=\"text-align: right;\">\n",
       "      <th></th>\n",
       "      <th>category_list</th>\n",
       "      <th>primary_sector</th>\n",
       "    </tr>\n",
       "  </thead>\n",
       "  <tbody>\n",
       "    <tr>\n",
       "      <th>2</th>\n",
       "      <td>3D</td>\n",
       "      <td>News, Search and Messaging</td>\n",
       "    </tr>\n",
       "    <tr>\n",
       "      <th>3</th>\n",
       "      <td>3D Printing</td>\n",
       "      <td>News, Search and Messaging</td>\n",
       "    </tr>\n",
       "    <tr>\n",
       "      <th>4</th>\n",
       "      <td>3D Technology</td>\n",
       "      <td>News, Search and Messaging</td>\n",
       "    </tr>\n",
       "    <tr>\n",
       "      <th>5</th>\n",
       "      <td>Accounting</td>\n",
       "      <td>Advertising</td>\n",
       "    </tr>\n",
       "    <tr>\n",
       "      <th>6</th>\n",
       "      <td>Active Lifestyle</td>\n",
       "      <td>Health,Manufacturing</td>\n",
       "    </tr>\n",
       "  </tbody>\n",
       "</table>\n",
       "</div>"
      ],
      "text/plain": [
       "      category_list              primary_sector\n",
       "2                3D  News, Search and Messaging\n",
       "3       3D Printing  News, Search and Messaging\n",
       "4     3D Technology  News, Search and Messaging\n",
       "5        Accounting                 Advertising\n",
       "6  Active Lifestyle        Health,Manufacturing"
      ]
     },
     "execution_count": 364,
     "metadata": {},
     "output_type": "execute_result"
    }
   ],
   "source": [
    "mapping = pd.read_csv('./IIITB/InvestmentAssignment/mapping.csv', encoding = \"ISO-8859-1\", sep=\",\", names=[\"category_list\",\"Automotive & Sports\",\"Blanks\",\"Cleantech / Semiconductors\",\"Entertainment\",\"Health,Manufacturing\",\"News, Search and Messaging\",\"Others\",\"Social, Finance, Analytics\", \"Advertising\" ])\n",
    "\n",
    "mapping.head()\n",
    "\n",
    "mapping.drop([0,1],inplace=True) # dropping header and blank column \n",
    "mapping.insert(10, \"primary_sector\", \"\") #inserting a new column primary_sector\n",
    "\n",
    "#Storing the values of the primary sector for corresponding list in the column primary_sector\n",
    "for i in range(2, len(mapping)):\n",
    "    for col in mapping.columns:\n",
    "        if (mapping.at[i,col]==\"1\"):\n",
    "            mapping.at[i,\"primary_sector\"]=col\n",
    "\n",
    "#dropping the other columns exccept category_list and primary_sector\n",
    "categoryListMappedToPrimarySector=mapping.drop([\"Automotive & Sports\",\"Blanks\",\"Cleantech / Semiconductors\",\"Entertainment\",\"Health,Manufacturing\",\"News, Search and Messaging\",\"Others\",\"Social, Finance, Analytics\", \"Advertising\"],axis=1)\n",
    "categoryListMappedToPrimarySector.head()\n"
   ]
  },
  {
   "cell_type": "markdown",
   "metadata": {},
   "source": [
    "# Checkpoint 5: Sector Analysis 2"
   ]
  },
  {
   "cell_type": "code",
   "execution_count": 365,
   "metadata": {},
   "outputs": [],
   "source": [
    "master_frame=master_frame[(master_frame.funding_round_type=='venture')|(master_frame.funding_round_type=='angel')|(master_frame.funding_round_type=='seed')|(master_frame.funding_round_type=='private_equity')]\n",
    "# filtering the master_frame to include only those rows where raised_amount_usd is in between 5-10 millions\n",
    "master_frame=master_frame[(master_frame.raised_amount_usd>5000000) & (master_frame.raised_amount_usd<15000000)]\n",
    "master_frame.head()\n",
    "\n",
    "#Now applying the filter for the top 3 english speaking countries and storing the result in D1,D2,D3\n",
    "D1=master_frame[(master_frame.country_code=='IND')] \n",
    "D2=master_frame[(master_frame.country_code=='USA')]\n",
    "D3=master_frame[(master_frame.country_code=='GBR')]\n",
    "D1 = pd.merge(D1,categoryListMappedToPrimarySector, how='inner', on='category_list')\n",
    "D2=  pd.merge(D2,categoryListMappedToPrimarySector, how='inner', on='category_list')\n",
    "D3=  pd.merge(D3,categoryListMappedToPrimarySector, how='inner', on='category_list')\n",
    "\n",
    "#renaming category_list to main_sector\n",
    "D1.rename(columns={\"category_list\":\"main_sector\"},inplace = True) \n",
    "D2.rename(columns={\"category_list\":\"main_sector\"},inplace = True) \n",
    "D3.rename(columns={\"category_list\":\"main_sector\"},inplace = True) \n",
    "\n",
    "\n",
    "\n",
    "\n",
    "#************Calculating the total investments and main_sector_counts *************\n",
    "\n",
    "# Step 2 - Merge G1, G2, G3 with D1, D2 , D3 respectively \n",
    "# Step 2.1 - Dropping columns raised_amount_usd and main_sector_counts \n",
    "#           as they are already present in G1,G2 and G3 and will Duplicate if not dropped\n",
    "\n",
    "G1 =D1.groupby('main_sector').sum()\n",
    "G2 =D2.groupby('main_sector').sum()\n",
    "G3 =D3.groupby('main_sector').sum()\n",
    "\n",
    "\n",
    "D1=pd.merge(D1,G1,how='inner',on='main_sector')\n",
    "D2=pd.merge(D2,G2,how='inner',on='main_sector')\n",
    "D3=pd.merge(D3,G3,how='inner',on='main_sector')\n",
    "\n",
    "\n",
    "\n"
   ]
  },
  {
   "cell_type": "code",
   "execution_count": 366,
   "metadata": {},
   "outputs": [],
   "source": [
    "#Making a data frame containing main_sector and there value counts \n",
    "series_mainsector_value_counts=D1['main_sector'].value_counts()\n",
    "df_mainsector_value_counts=series_mainsector_value_counts.to_frame()\n",
    "df_mainsector_value_counts.rename(columns={\"main_sector\":\"main_sector_counts\"},inplace = True) \n",
    "df_mainsector_value_counts['main_sector']=df_mainsector_value_counts.index\n",
    "\n",
    "\n",
    "#merging the df_mainsector_value_counts data frame with the data frames D1 , D2 , D3 \n",
    "D1=pd.merge(D1,df_mainsector_value_counts, how='inner', on='main_sector')\n",
    "D2=pd.merge(D2,df_mainsector_value_counts, how='inner', on='main_sector')\n",
    "D3=pd.merge(D3,df_mainsector_value_counts, how='inner', on='main_sector')\n",
    "D1.rename(columns={\"raised_amount_usd_x\":\"raised_amount_usd\"},inplace = True)\n",
    "D2.rename(columns={\"raised_amount_usd_x\":\"raised_amount_usd\"},inplace = True)\n",
    "D3.rename(columns={\"raised_amount_usd_x\":\"raised_amount_usd\"},inplace = True)\n",
    "\n",
    "\n",
    "\n",
    "\n",
    "\n",
    "\n"
   ]
  },
  {
   "cell_type": "markdown",
   "metadata": {},
   "source": [
    "\n",
    "\n",
    "### 5.1.1 Total number of Investments (count)\n",
    "\n"
   ]
  },
  {
   "cell_type": "code",
   "execution_count": 367,
   "metadata": {},
   "outputs": [
    {
     "name": "stdout",
     "output_type": "stream",
     "text": [
      "D1 942\n",
      "D2 31865\n",
      "D3 1919\n"
     ]
    }
   ],
   "source": [
    "print(\"D1\",D1.main_sector_counts.sum())\n",
    "print(\"D2\",D2.main_sector_counts.sum())\n",
    "print(\"D3\",D3.main_sector_counts.sum())\n"
   ]
  },
  {
   "cell_type": "markdown",
   "metadata": {},
   "source": [
    "### 5.1.2 Total amount of investment (USD)"
   ]
  },
  {
   "cell_type": "code",
   "execution_count": 368,
   "metadata": {},
   "outputs": [
    {
     "name": "stdout",
     "output_type": "stream",
     "text": [
      "D1 1232398277.0\n",
      "D2 39471517406.0\n",
      "D3 2455655109.0\n"
     ]
    }
   ],
   "source": [
    "print(\"D1\",D1.raised_amount_usd.sum())\n",
    "print(\"D2\",D2.raised_amount_usd.sum())\n",
    "print(\"D3\",D3.raised_amount_usd.sum())"
   ]
  },
  {
   "cell_type": "markdown",
   "metadata": {},
   "source": [
    "### 5.1.3  - 5.10 \n",
    "#### Group by main_sector_counts and find the max(). \n",
    "#### Note that the main_sector_counts of the sectors are :\n",
    "##### Software : 17\n",
    "##### Ecommerce : 14\n",
    "##### Mobile : 11"
   ]
  },
  {
   "cell_type": "code",
   "execution_count": 369,
   "metadata": {},
   "outputs": [
    {
     "data": {
      "text/html": [
       "<div>\n",
       "<style scoped>\n",
       "    .dataframe tbody tr th:only-of-type {\n",
       "        vertical-align: middle;\n",
       "    }\n",
       "\n",
       "    .dataframe tbody tr th {\n",
       "        vertical-align: top;\n",
       "    }\n",
       "\n",
       "    .dataframe thead th {\n",
       "        text-align: right;\n",
       "    }\n",
       "</style>\n",
       "<table border=\"1\" class=\"dataframe\">\n",
       "  <thead>\n",
       "    <tr style=\"text-align: right;\">\n",
       "      <th></th>\n",
       "      <th>permalink</th>\n",
       "      <th>name</th>\n",
       "      <th>main_sector</th>\n",
       "      <th>status</th>\n",
       "      <th>country_code</th>\n",
       "      <th>state_code</th>\n",
       "      <th>region</th>\n",
       "      <th>city</th>\n",
       "      <th>funding_round_permalink</th>\n",
       "      <th>funding_round_type</th>\n",
       "      <th>funding_at</th>\n",
       "      <th>raised_amount_usd</th>\n",
       "      <th>primary_sector</th>\n",
       "      <th>raised_amount_usd_y</th>\n",
       "    </tr>\n",
       "    <tr>\n",
       "      <th>main_sector_counts</th>\n",
       "      <th></th>\n",
       "      <th></th>\n",
       "      <th></th>\n",
       "      <th></th>\n",
       "      <th></th>\n",
       "      <th></th>\n",
       "      <th></th>\n",
       "      <th></th>\n",
       "      <th></th>\n",
       "      <th></th>\n",
       "      <th></th>\n",
       "      <th></th>\n",
       "      <th></th>\n",
       "      <th></th>\n",
       "    </tr>\n",
       "  </thead>\n",
       "  <tbody>\n",
       "    <tr>\n",
       "      <th>1</th>\n",
       "      <td>/organization/welcome-cure</td>\n",
       "      <td>Welcome Cure</td>\n",
       "      <td>Startups</td>\n",
       "      <td>operating</td>\n",
       "      <td>IND</td>\n",
       "      <td>7</td>\n",
       "      <td>New Delhi</td>\n",
       "      <td>Pilani</td>\n",
       "      <td>/funding-round/f5078f3a78b3f3f149be9bc105ec0214</td>\n",
       "      <td>venture</td>\n",
       "      <td>29-06-2015</td>\n",
       "      <td>13000000.0</td>\n",
       "      <td>Social, Finance, Analytics</td>\n",
       "      <td>13000000.0</td>\n",
       "    </tr>\n",
       "    <tr>\n",
       "      <th>2</th>\n",
       "      <td>/organization/valyoo-technologies</td>\n",
       "      <td>Valyoo Technologies</td>\n",
       "      <td>Security</td>\n",
       "      <td>operating</td>\n",
       "      <td>IND</td>\n",
       "      <td>7</td>\n",
       "      <td>New Delhi</td>\n",
       "      <td>Noida</td>\n",
       "      <td>/funding-round/feed53766b4cc22aa6b85ee6d86c4071</td>\n",
       "      <td>venture</td>\n",
       "      <td>30-11-2015</td>\n",
       "      <td>14750000.0</td>\n",
       "      <td>Social, Finance, Analytics</td>\n",
       "      <td>22750000.0</td>\n",
       "    </tr>\n",
       "    <tr>\n",
       "      <th>3</th>\n",
       "      <td>/organization/power2sme</td>\n",
       "      <td>Power2SME</td>\n",
       "      <td>Health Care</td>\n",
       "      <td>operating</td>\n",
       "      <td>IND</td>\n",
       "      <td>19</td>\n",
       "      <td>Mumbai</td>\n",
       "      <td>Mumbai</td>\n",
       "      <td>/funding-round/f7cb3e67a9efe87f7337146edff31a17</td>\n",
       "      <td>venture</td>\n",
       "      <td>24-07-2013</td>\n",
       "      <td>10000000.0</td>\n",
       "      <td>Social, Finance, Analytics</td>\n",
       "      <td>26400000.0</td>\n",
       "    </tr>\n",
       "    <tr>\n",
       "      <th>4</th>\n",
       "      <td>/organization/yatra-online</td>\n",
       "      <td>Yatra</td>\n",
       "      <td>Travel</td>\n",
       "      <td>operating</td>\n",
       "      <td>IND</td>\n",
       "      <td>7</td>\n",
       "      <td>Thiruvananthapuram</td>\n",
       "      <td>Thiruvananthapuram</td>\n",
       "      <td>/funding-round/e1391efe0df02c13bb587907c059c081</td>\n",
       "      <td>venture</td>\n",
       "      <td>31-07-2015</td>\n",
       "      <td>14500000.0</td>\n",
       "      <td>Social, Finance, Analytics</td>\n",
       "      <td>37900000.0</td>\n",
       "    </tr>\n",
       "    <tr>\n",
       "      <th>5</th>\n",
       "      <td>/organization/tutorvista-com</td>\n",
       "      <td>iProf Learning Solutions</td>\n",
       "      <td>Education</td>\n",
       "      <td>operating</td>\n",
       "      <td>IND</td>\n",
       "      <td>36</td>\n",
       "      <td>New Delhi</td>\n",
       "      <td>Noida</td>\n",
       "      <td>/funding-round/d30bdbf0f3774a5b437d04714560ca9d</td>\n",
       "      <td>venture</td>\n",
       "      <td>23-10-2012</td>\n",
       "      <td>13000000.0</td>\n",
       "      <td>Social, Finance, Analytics</td>\n",
       "      <td>48750000.0</td>\n",
       "    </tr>\n",
       "    <tr>\n",
       "      <th>6</th>\n",
       "      <td>/organization/trivitron-healthcare</td>\n",
       "      <td>redBus.in</td>\n",
       "      <td>Health and Wellness</td>\n",
       "      <td>operating</td>\n",
       "      <td>IND</td>\n",
       "      <td>7</td>\n",
       "      <td>New Delhi</td>\n",
       "      <td>New Delhi</td>\n",
       "      <td>/funding-round/f5b252d6442ce231bb01586ca1821f63</td>\n",
       "      <td>venture</td>\n",
       "      <td>31-03-2010</td>\n",
       "      <td>14000000.0</td>\n",
       "      <td>Others</td>\n",
       "      <td>64640000.0</td>\n",
       "    </tr>\n",
       "    <tr>\n",
       "      <th>7</th>\n",
       "      <td>/organization/sanghvi</td>\n",
       "      <td>Sanghvi</td>\n",
       "      <td>Real Estate</td>\n",
       "      <td>operating</td>\n",
       "      <td>IND</td>\n",
       "      <td>25</td>\n",
       "      <td>Pune</td>\n",
       "      <td>Pune</td>\n",
       "      <td>/funding-round/f7b71e84e72efc3f9575acd23ed3e694</td>\n",
       "      <td>venture</td>\n",
       "      <td>24-01-2014</td>\n",
       "      <td>12000000.0</td>\n",
       "      <td>Social, Finance, Analytics</td>\n",
       "      <td>71400000.0</td>\n",
       "    </tr>\n",
       "    <tr>\n",
       "      <th>11</th>\n",
       "      <td>/organization/teledna</td>\n",
       "      <td>TeleDNA</td>\n",
       "      <td>Mobile</td>\n",
       "      <td>operating</td>\n",
       "      <td>IND</td>\n",
       "      <td>7</td>\n",
       "      <td>New Delhi</td>\n",
       "      <td>New Delhi</td>\n",
       "      <td>/funding-round/e83111429b478da4bb431302547c5be0</td>\n",
       "      <td>venture</td>\n",
       "      <td>31-08-2011</td>\n",
       "      <td>13000000.0</td>\n",
       "      <td>Others</td>\n",
       "      <td>113490000.0</td>\n",
       "    </tr>\n",
       "    <tr>\n",
       "      <th>14</th>\n",
       "      <td>/organization/snapdeal</td>\n",
       "      <td>mydala</td>\n",
       "      <td>E-Commerce</td>\n",
       "      <td>operating</td>\n",
       "      <td>IND</td>\n",
       "      <td>7</td>\n",
       "      <td>Pune</td>\n",
       "      <td>Pune</td>\n",
       "      <td>/funding-round/f54c00f0bf314c8709f46c32d29018b7</td>\n",
       "      <td>venture</td>\n",
       "      <td>25-09-2011</td>\n",
       "      <td>14000000.0</td>\n",
       "      <td>Social, Finance, Analytics</td>\n",
       "      <td>135369507.0</td>\n",
       "    </tr>\n",
       "    <tr>\n",
       "      <th>17</th>\n",
       "      <td>/organization/quick-heal-technologies</td>\n",
       "      <td>iCreate Software</td>\n",
       "      <td>Software</td>\n",
       "      <td>operating</td>\n",
       "      <td>IND</td>\n",
       "      <td>9</td>\n",
       "      <td>Pune</td>\n",
       "      <td>Pune</td>\n",
       "      <td>/funding-round/f9ef30574e688d362085cedb688e8fda</td>\n",
       "      <td>venture</td>\n",
       "      <td>29-08-2012</td>\n",
       "      <td>14000000.0</td>\n",
       "      <td>Social, Finance, Analytics</td>\n",
       "      <td>153050000.0</td>\n",
       "    </tr>\n",
       "  </tbody>\n",
       "</table>\n",
       "</div>"
      ],
      "text/plain": [
       "                                                permalink  \\\n",
       "main_sector_counts                                          \n",
       "1                              /organization/welcome-cure   \n",
       "2                       /organization/valyoo-technologies   \n",
       "3                                 /organization/power2sme   \n",
       "4                              /organization/yatra-online   \n",
       "5                            /organization/tutorvista-com   \n",
       "6                      /organization/trivitron-healthcare   \n",
       "7                                   /organization/sanghvi   \n",
       "11                                  /organization/teledna   \n",
       "14                                 /organization/snapdeal   \n",
       "17                  /organization/quick-heal-technologies   \n",
       "\n",
       "                                        name          main_sector     status  \\\n",
       "main_sector_counts                                                             \n",
       "1                               Welcome Cure             Startups  operating   \n",
       "2                        Valyoo Technologies             Security  operating   \n",
       "3                                  Power2SME          Health Care  operating   \n",
       "4                                      Yatra               Travel  operating   \n",
       "5                   iProf Learning Solutions            Education  operating   \n",
       "6                                  redBus.in  Health and Wellness  operating   \n",
       "7                                    Sanghvi          Real Estate  operating   \n",
       "11                                   TeleDNA               Mobile  operating   \n",
       "14                                    mydala           E-Commerce  operating   \n",
       "17                          iCreate Software             Software  operating   \n",
       "\n",
       "                   country_code state_code              region  \\\n",
       "main_sector_counts                                               \n",
       "1                           IND          7           New Delhi   \n",
       "2                           IND          7           New Delhi   \n",
       "3                           IND         19              Mumbai   \n",
       "4                           IND          7  Thiruvananthapuram   \n",
       "5                           IND         36           New Delhi   \n",
       "6                           IND          7           New Delhi   \n",
       "7                           IND         25                Pune   \n",
       "11                          IND          7           New Delhi   \n",
       "14                          IND          7                Pune   \n",
       "17                          IND          9                Pune   \n",
       "\n",
       "                                  city  \\\n",
       "main_sector_counts                       \n",
       "1                               Pilani   \n",
       "2                                Noida   \n",
       "3                               Mumbai   \n",
       "4                   Thiruvananthapuram   \n",
       "5                                Noida   \n",
       "6                            New Delhi   \n",
       "7                                 Pune   \n",
       "11                           New Delhi   \n",
       "14                                Pune   \n",
       "17                                Pune   \n",
       "\n",
       "                                            funding_round_permalink  \\\n",
       "main_sector_counts                                                    \n",
       "1                   /funding-round/f5078f3a78b3f3f149be9bc105ec0214   \n",
       "2                   /funding-round/feed53766b4cc22aa6b85ee6d86c4071   \n",
       "3                   /funding-round/f7cb3e67a9efe87f7337146edff31a17   \n",
       "4                   /funding-round/e1391efe0df02c13bb587907c059c081   \n",
       "5                   /funding-round/d30bdbf0f3774a5b437d04714560ca9d   \n",
       "6                   /funding-round/f5b252d6442ce231bb01586ca1821f63   \n",
       "7                   /funding-round/f7b71e84e72efc3f9575acd23ed3e694   \n",
       "11                  /funding-round/e83111429b478da4bb431302547c5be0   \n",
       "14                  /funding-round/f54c00f0bf314c8709f46c32d29018b7   \n",
       "17                  /funding-round/f9ef30574e688d362085cedb688e8fda   \n",
       "\n",
       "                   funding_round_type  funding_at  raised_amount_usd  \\\n",
       "main_sector_counts                                                     \n",
       "1                             venture  29-06-2015         13000000.0   \n",
       "2                             venture  30-11-2015         14750000.0   \n",
       "3                             venture  24-07-2013         10000000.0   \n",
       "4                             venture  31-07-2015         14500000.0   \n",
       "5                             venture  23-10-2012         13000000.0   \n",
       "6                             venture  31-03-2010         14000000.0   \n",
       "7                             venture  24-01-2014         12000000.0   \n",
       "11                            venture  31-08-2011         13000000.0   \n",
       "14                            venture  25-09-2011         14000000.0   \n",
       "17                            venture  29-08-2012         14000000.0   \n",
       "\n",
       "                                primary_sector  raised_amount_usd_y  \n",
       "main_sector_counts                                                   \n",
       "1                   Social, Finance, Analytics           13000000.0  \n",
       "2                   Social, Finance, Analytics           22750000.0  \n",
       "3                   Social, Finance, Analytics           26400000.0  \n",
       "4                   Social, Finance, Analytics           37900000.0  \n",
       "5                   Social, Finance, Analytics           48750000.0  \n",
       "6                                       Others           64640000.0  \n",
       "7                   Social, Finance, Analytics           71400000.0  \n",
       "11                                      Others          113490000.0  \n",
       "14                  Social, Finance, Analytics          135369507.0  \n",
       "17                  Social, Finance, Analytics          153050000.0  "
      ]
     },
     "execution_count": 369,
     "metadata": {},
     "output_type": "execute_result"
    }
   ],
   "source": [
    "D1.groupby('main_sector_counts').max()"
   ]
  },
  {
   "cell_type": "code",
   "execution_count": 370,
   "metadata": {},
   "outputs": [
    {
     "data": {
      "text/html": [
       "<div>\n",
       "<style scoped>\n",
       "    .dataframe tbody tr th:only-of-type {\n",
       "        vertical-align: middle;\n",
       "    }\n",
       "\n",
       "    .dataframe tbody tr th {\n",
       "        vertical-align: top;\n",
       "    }\n",
       "\n",
       "    .dataframe thead th {\n",
       "        text-align: right;\n",
       "    }\n",
       "</style>\n",
       "<table border=\"1\" class=\"dataframe\">\n",
       "  <thead>\n",
       "    <tr style=\"text-align: right;\">\n",
       "      <th></th>\n",
       "      <th>permalink</th>\n",
       "      <th>name</th>\n",
       "      <th>main_sector</th>\n",
       "      <th>status</th>\n",
       "      <th>country_code</th>\n",
       "      <th>funding_round_permalink</th>\n",
       "      <th>funding_round_type</th>\n",
       "      <th>funding_at</th>\n",
       "      <th>raised_amount_usd</th>\n",
       "      <th>primary_sector</th>\n",
       "      <th>raised_amount_usd_y</th>\n",
       "    </tr>\n",
       "    <tr>\n",
       "      <th>main_sector_counts</th>\n",
       "      <th></th>\n",
       "      <th></th>\n",
       "      <th></th>\n",
       "      <th></th>\n",
       "      <th></th>\n",
       "      <th></th>\n",
       "      <th></th>\n",
       "      <th></th>\n",
       "      <th></th>\n",
       "      <th></th>\n",
       "      <th></th>\n",
       "    </tr>\n",
       "  </thead>\n",
       "  <tbody>\n",
       "    <tr>\n",
       "      <th>1</th>\n",
       "      <td>/organization/zoosk</td>\n",
       "      <td>nTAG Interactive</td>\n",
       "      <td>Startups</td>\n",
       "      <td>operating</td>\n",
       "      <td>USA</td>\n",
       "      <td>/funding-round/fc6d54428b759dc7418a329cc8c75948</td>\n",
       "      <td>venture</td>\n",
       "      <td>30-12-2010</td>\n",
       "      <td>14900000.0</td>\n",
       "      <td>Social, Finance, Analytics</td>\n",
       "      <td>2.732294e+08</td>\n",
       "    </tr>\n",
       "    <tr>\n",
       "      <th>2</th>\n",
       "      <td>/organization/zygo-corporation</td>\n",
       "      <td>videoNEXT</td>\n",
       "      <td>Security</td>\n",
       "      <td>operating</td>\n",
       "      <td>USA</td>\n",
       "      <td>/funding-round/ffad8d8c2ff5f862315b96e8658a289c</td>\n",
       "      <td>venture</td>\n",
       "      <td>31-08-2006</td>\n",
       "      <td>14999999.0</td>\n",
       "      <td>Social, Finance, Analytics</td>\n",
       "      <td>1.937278e+09</td>\n",
       "    </tr>\n",
       "    <tr>\n",
       "      <th>3</th>\n",
       "      <td>/organization/zurex-pharma</td>\n",
       "      <td>ownCloud</td>\n",
       "      <td>Health Care</td>\n",
       "      <td>operating</td>\n",
       "      <td>USA</td>\n",
       "      <td>/funding-round/ffd1f2e1e62d6181c47dfa293130a61a</td>\n",
       "      <td>venture</td>\n",
       "      <td>31-05-2011</td>\n",
       "      <td>14999999.0</td>\n",
       "      <td>Social, Finance, Analytics</td>\n",
       "      <td>3.033510e+09</td>\n",
       "    </tr>\n",
       "    <tr>\n",
       "      <th>4</th>\n",
       "      <td>/organization/zevia</td>\n",
       "      <td>Zevia</td>\n",
       "      <td>Travel</td>\n",
       "      <td>operating</td>\n",
       "      <td>USA</td>\n",
       "      <td>/funding-round/ff8b63481deaf155aeb808605730b2c2</td>\n",
       "      <td>venture</td>\n",
       "      <td>31-07-2014</td>\n",
       "      <td>14000002.0</td>\n",
       "      <td>Social, Finance, Analytics</td>\n",
       "      <td>2.150017e+08</td>\n",
       "    </tr>\n",
       "    <tr>\n",
       "      <th>5</th>\n",
       "      <td>/organization/zuniversity-com</td>\n",
       "      <td>zUniversity</td>\n",
       "      <td>Education</td>\n",
       "      <td>operating</td>\n",
       "      <td>USA</td>\n",
       "      <td>/funding-round/ff0125f7de2b140aa1f1eeccefd34b68</td>\n",
       "      <td>venture</td>\n",
       "      <td>31-08-2011</td>\n",
       "      <td>14600000.0</td>\n",
       "      <td>Social, Finance, Analytics</td>\n",
       "      <td>2.287228e+09</td>\n",
       "    </tr>\n",
       "    <tr>\n",
       "      <th>6</th>\n",
       "      <td>/organization/zystor</td>\n",
       "      <td>oragenics</td>\n",
       "      <td>Health and Wellness</td>\n",
       "      <td>operating</td>\n",
       "      <td>USA</td>\n",
       "      <td>/funding-round/ffdf4189ff79e6418df9ae88041a34a8</td>\n",
       "      <td>venture</td>\n",
       "      <td>31-12-2014</td>\n",
       "      <td>14999998.0</td>\n",
       "      <td>Others</td>\n",
       "      <td>9.293311e+09</td>\n",
       "    </tr>\n",
       "    <tr>\n",
       "      <th>7</th>\n",
       "      <td>/organization/trinity-place-holdings</td>\n",
       "      <td>dotloop</td>\n",
       "      <td>Real Estate</td>\n",
       "      <td>operating</td>\n",
       "      <td>USA</td>\n",
       "      <td>/funding-round/e82e76f37039dc594dd01e1f6241aae5</td>\n",
       "      <td>venture</td>\n",
       "      <td>31-01-2011</td>\n",
       "      <td>14800000.0</td>\n",
       "      <td>Social, Finance, Analytics</td>\n",
       "      <td>2.135848e+08</td>\n",
       "    </tr>\n",
       "    <tr>\n",
       "      <th>11</th>\n",
       "      <td>/organization/zumobi</td>\n",
       "      <td>tvCompass</td>\n",
       "      <td>Mobile</td>\n",
       "      <td>operating</td>\n",
       "      <td>USA</td>\n",
       "      <td>/funding-round/ff8525552791096df76f9c292fcd1d31</td>\n",
       "      <td>venture</td>\n",
       "      <td>31-07-2015</td>\n",
       "      <td>14932000.0</td>\n",
       "      <td>Others</td>\n",
       "      <td>2.096975e+09</td>\n",
       "    </tr>\n",
       "    <tr>\n",
       "      <th>14</th>\n",
       "      <td>/organization/zola-books</td>\n",
       "      <td>ideeli</td>\n",
       "      <td>E-Commerce</td>\n",
       "      <td>operating</td>\n",
       "      <td>USA</td>\n",
       "      <td>/funding-round/fde902928b89dec36d4b796a563a2a5a</td>\n",
       "      <td>venture</td>\n",
       "      <td>31-01-2012</td>\n",
       "      <td>14500000.0</td>\n",
       "      <td>Social, Finance, Analytics</td>\n",
       "      <td>9.469695e+08</td>\n",
       "    </tr>\n",
       "    <tr>\n",
       "      <th>17</th>\n",
       "      <td>/organization/zudy</td>\n",
       "      <td>xkoto</td>\n",
       "      <td>Software</td>\n",
       "      <td>operating</td>\n",
       "      <td>USA</td>\n",
       "      <td>/funding-round/ffe58b1ee53e7c88ceb9624111ed5d9a</td>\n",
       "      <td>venture</td>\n",
       "      <td>31-10-2001</td>\n",
       "      <td>14999515.0</td>\n",
       "      <td>Social, Finance, Analytics</td>\n",
       "      <td>7.622109e+09</td>\n",
       "    </tr>\n",
       "  </tbody>\n",
       "</table>\n",
       "</div>"
      ],
      "text/plain": [
       "                                               permalink              name  \\\n",
       "main_sector_counts                                                           \n",
       "1                                    /organization/zoosk  nTAG Interactive   \n",
       "2                         /organization/zygo-corporation         videoNEXT   \n",
       "3                             /organization/zurex-pharma          ownCloud   \n",
       "4                                    /organization/zevia             Zevia   \n",
       "5                          /organization/zuniversity-com       zUniversity   \n",
       "6                                   /organization/zystor         oragenics   \n",
       "7                   /organization/trinity-place-holdings           dotloop   \n",
       "11                                  /organization/zumobi         tvCompass   \n",
       "14                              /organization/zola-books            ideeli   \n",
       "17                                    /organization/zudy             xkoto   \n",
       "\n",
       "                            main_sector     status country_code  \\\n",
       "main_sector_counts                                                \n",
       "1                              Startups  operating          USA   \n",
       "2                              Security  operating          USA   \n",
       "3                           Health Care  operating          USA   \n",
       "4                                Travel  operating          USA   \n",
       "5                             Education  operating          USA   \n",
       "6                   Health and Wellness  operating          USA   \n",
       "7                           Real Estate  operating          USA   \n",
       "11                               Mobile  operating          USA   \n",
       "14                           E-Commerce  operating          USA   \n",
       "17                             Software  operating          USA   \n",
       "\n",
       "                                            funding_round_permalink  \\\n",
       "main_sector_counts                                                    \n",
       "1                   /funding-round/fc6d54428b759dc7418a329cc8c75948   \n",
       "2                   /funding-round/ffad8d8c2ff5f862315b96e8658a289c   \n",
       "3                   /funding-round/ffd1f2e1e62d6181c47dfa293130a61a   \n",
       "4                   /funding-round/ff8b63481deaf155aeb808605730b2c2   \n",
       "5                   /funding-round/ff0125f7de2b140aa1f1eeccefd34b68   \n",
       "6                   /funding-round/ffdf4189ff79e6418df9ae88041a34a8   \n",
       "7                   /funding-round/e82e76f37039dc594dd01e1f6241aae5   \n",
       "11                  /funding-round/ff8525552791096df76f9c292fcd1d31   \n",
       "14                  /funding-round/fde902928b89dec36d4b796a563a2a5a   \n",
       "17                  /funding-round/ffe58b1ee53e7c88ceb9624111ed5d9a   \n",
       "\n",
       "                   funding_round_type  funding_at  raised_amount_usd  \\\n",
       "main_sector_counts                                                     \n",
       "1                             venture  30-12-2010         14900000.0   \n",
       "2                             venture  31-08-2006         14999999.0   \n",
       "3                             venture  31-05-2011         14999999.0   \n",
       "4                             venture  31-07-2014         14000002.0   \n",
       "5                             venture  31-08-2011         14600000.0   \n",
       "6                             venture  31-12-2014         14999998.0   \n",
       "7                             venture  31-01-2011         14800000.0   \n",
       "11                            venture  31-07-2015         14932000.0   \n",
       "14                            venture  31-01-2012         14500000.0   \n",
       "17                            venture  31-10-2001         14999515.0   \n",
       "\n",
       "                                primary_sector  raised_amount_usd_y  \n",
       "main_sector_counts                                                   \n",
       "1                   Social, Finance, Analytics         2.732294e+08  \n",
       "2                   Social, Finance, Analytics         1.937278e+09  \n",
       "3                   Social, Finance, Analytics         3.033510e+09  \n",
       "4                   Social, Finance, Analytics         2.150017e+08  \n",
       "5                   Social, Finance, Analytics         2.287228e+09  \n",
       "6                                       Others         9.293311e+09  \n",
       "7                   Social, Finance, Analytics         2.135848e+08  \n",
       "11                                      Others         2.096975e+09  \n",
       "14                  Social, Finance, Analytics         9.469695e+08  \n",
       "17                  Social, Finance, Analytics         7.622109e+09  "
      ]
     },
     "execution_count": 370,
     "metadata": {},
     "output_type": "execute_result"
    }
   ],
   "source": [
    "\n",
    "D2.groupby('main_sector_counts').max()"
   ]
  },
  {
   "cell_type": "code",
   "execution_count": 371,
   "metadata": {
    "scrolled": true
   },
   "outputs": [
    {
     "data": {
      "text/html": [
       "<div>\n",
       "<style scoped>\n",
       "    .dataframe tbody tr th:only-of-type {\n",
       "        vertical-align: middle;\n",
       "    }\n",
       "\n",
       "    .dataframe tbody tr th {\n",
       "        vertical-align: top;\n",
       "    }\n",
       "\n",
       "    .dataframe thead th {\n",
       "        text-align: right;\n",
       "    }\n",
       "</style>\n",
       "<table border=\"1\" class=\"dataframe\">\n",
       "  <thead>\n",
       "    <tr style=\"text-align: right;\">\n",
       "      <th></th>\n",
       "      <th>permalink</th>\n",
       "      <th>name</th>\n",
       "      <th>main_sector</th>\n",
       "      <th>status</th>\n",
       "      <th>country_code</th>\n",
       "      <th>funding_round_permalink</th>\n",
       "      <th>funding_round_type</th>\n",
       "      <th>funding_at</th>\n",
       "      <th>raised_amount_usd</th>\n",
       "      <th>primary_sector</th>\n",
       "      <th>raised_amount_usd_y</th>\n",
       "    </tr>\n",
       "    <tr>\n",
       "      <th>main_sector_counts</th>\n",
       "      <th></th>\n",
       "      <th></th>\n",
       "      <th></th>\n",
       "      <th></th>\n",
       "      <th></th>\n",
       "      <th></th>\n",
       "      <th></th>\n",
       "      <th></th>\n",
       "      <th></th>\n",
       "      <th></th>\n",
       "      <th></th>\n",
       "    </tr>\n",
       "  </thead>\n",
       "  <tbody>\n",
       "    <tr>\n",
       "      <th>1</th>\n",
       "      <td>/organization/valldata-services</td>\n",
       "      <td>Valldata Services</td>\n",
       "      <td>Retail</td>\n",
       "      <td>operating</td>\n",
       "      <td>GBR</td>\n",
       "      <td>/funding-round/f134bd17d71b9bb9c99904638c843ab3</td>\n",
       "      <td>venture</td>\n",
       "      <td>30-03-2015</td>\n",
       "      <td>11600000.0</td>\n",
       "      <td>Social, Finance, Analytics</td>\n",
       "      <td>26647666.0</td>\n",
       "    </tr>\n",
       "    <tr>\n",
       "      <th>2</th>\n",
       "      <td>/organization/wunderloop</td>\n",
       "      <td>wunderloop</td>\n",
       "      <td>Security</td>\n",
       "      <td>operating</td>\n",
       "      <td>GBR</td>\n",
       "      <td>/funding-round/fc8e349074d36ca828d552ca8926f50d</td>\n",
       "      <td>venture</td>\n",
       "      <td>31-03-2008</td>\n",
       "      <td>14032336.0</td>\n",
       "      <td>Social, Finance, Analytics</td>\n",
       "      <td>121287194.0</td>\n",
       "    </tr>\n",
       "    <tr>\n",
       "      <th>3</th>\n",
       "      <td>/organization/topivert</td>\n",
       "      <td>TopiVert</td>\n",
       "      <td>Health Care</td>\n",
       "      <td>operating</td>\n",
       "      <td>GBR</td>\n",
       "      <td>/funding-round/fe82bf9c5c1fc55ec969598a9e37b8bb</td>\n",
       "      <td>venture</td>\n",
       "      <td>28-11-2012</td>\n",
       "      <td>14000000.0</td>\n",
       "      <td>Social, Finance, Analytics</td>\n",
       "      <td>147835051.0</td>\n",
       "    </tr>\n",
       "    <tr>\n",
       "      <th>4</th>\n",
       "      <td>/organization/weswap-com</td>\n",
       "      <td>WeSwap.com</td>\n",
       "      <td>Travel</td>\n",
       "      <td>operating</td>\n",
       "      <td>GBR</td>\n",
       "      <td>/funding-round/f65f2ec6cc1f2a5d9a79a73425ddb8b5</td>\n",
       "      <td>venture</td>\n",
       "      <td>30-05-2014</td>\n",
       "      <td>13637262.0</td>\n",
       "      <td>Social, Finance, Analytics</td>\n",
       "      <td>100479358.0</td>\n",
       "    </tr>\n",
       "    <tr>\n",
       "      <th>5</th>\n",
       "      <td>/organization/watson-brown</td>\n",
       "      <td>quietrevolution</td>\n",
       "      <td>Clean Technology</td>\n",
       "      <td>operating</td>\n",
       "      <td>GBR</td>\n",
       "      <td>/funding-round/cf975d2ebef9638827f5241ef39ec2c0</td>\n",
       "      <td>venture</td>\n",
       "      <td>29-09-2008</td>\n",
       "      <td>13600000.0</td>\n",
       "      <td>Cleantech / Semiconductors</td>\n",
       "      <td>234930853.0</td>\n",
       "    </tr>\n",
       "    <tr>\n",
       "      <th>6</th>\n",
       "      <td>/organization/ziarco-pharma</td>\n",
       "      <td>mySupermarket</td>\n",
       "      <td>Health and Wellness</td>\n",
       "      <td>operating</td>\n",
       "      <td>GBR</td>\n",
       "      <td>/funding-round/fa2aa87aeebc39a83935c2a2b9f8abfa</td>\n",
       "      <td>venture</td>\n",
       "      <td>31-03-2011</td>\n",
       "      <td>14906222.0</td>\n",
       "      <td>Others</td>\n",
       "      <td>543581989.0</td>\n",
       "    </tr>\n",
       "    <tr>\n",
       "      <th>11</th>\n",
       "      <td>/organization/zinwave</td>\n",
       "      <td>weComm</td>\n",
       "      <td>Mobile</td>\n",
       "      <td>operating</td>\n",
       "      <td>GBR</td>\n",
       "      <td>/funding-round/f5bfb72ce6faea78f9d92b8b62c9c0a2</td>\n",
       "      <td>venture</td>\n",
       "      <td>29-01-2008</td>\n",
       "      <td>13381200.0</td>\n",
       "      <td>Others</td>\n",
       "      <td>210339734.0</td>\n",
       "    </tr>\n",
       "    <tr>\n",
       "      <th>14</th>\n",
       "      <td>/organization/seatwave</td>\n",
       "      <td>Seatwave</td>\n",
       "      <td>E-Commerce</td>\n",
       "      <td>operating</td>\n",
       "      <td>GBR</td>\n",
       "      <td>/funding-round/f0eb5c4aec947ebed9c7a9b28eed1662</td>\n",
       "      <td>venture</td>\n",
       "      <td>28-09-2015</td>\n",
       "      <td>14656237.0</td>\n",
       "      <td>Social, Finance, Analytics</td>\n",
       "      <td>144133096.0</td>\n",
       "    </tr>\n",
       "    <tr>\n",
       "      <th>17</th>\n",
       "      <td>/organization/zynstra</td>\n",
       "      <td>picoChip</td>\n",
       "      <td>Software</td>\n",
       "      <td>operating</td>\n",
       "      <td>GBR</td>\n",
       "      <td>/funding-round/ff66f0352285651b74e60ade063c4af4</td>\n",
       "      <td>venture</td>\n",
       "      <td>31-03-2014</td>\n",
       "      <td>14000000.0</td>\n",
       "      <td>Social, Finance, Analytics</td>\n",
       "      <td>319817324.0</td>\n",
       "    </tr>\n",
       "  </tbody>\n",
       "</table>\n",
       "</div>"
      ],
      "text/plain": [
       "                                          permalink               name  \\\n",
       "main_sector_counts                                                       \n",
       "1                   /organization/valldata-services  Valldata Services   \n",
       "2                          /organization/wunderloop         wunderloop   \n",
       "3                            /organization/topivert           TopiVert   \n",
       "4                          /organization/weswap-com         WeSwap.com   \n",
       "5                        /organization/watson-brown    quietrevolution   \n",
       "6                       /organization/ziarco-pharma      mySupermarket   \n",
       "11                            /organization/zinwave             weComm   \n",
       "14                           /organization/seatwave           Seatwave   \n",
       "17                            /organization/zynstra           picoChip   \n",
       "\n",
       "                            main_sector     status country_code  \\\n",
       "main_sector_counts                                                \n",
       "1                                Retail  operating          GBR   \n",
       "2                              Security  operating          GBR   \n",
       "3                           Health Care  operating          GBR   \n",
       "4                                Travel  operating          GBR   \n",
       "5                      Clean Technology  operating          GBR   \n",
       "6                   Health and Wellness  operating          GBR   \n",
       "11                               Mobile  operating          GBR   \n",
       "14                           E-Commerce  operating          GBR   \n",
       "17                             Software  operating          GBR   \n",
       "\n",
       "                                            funding_round_permalink  \\\n",
       "main_sector_counts                                                    \n",
       "1                   /funding-round/f134bd17d71b9bb9c99904638c843ab3   \n",
       "2                   /funding-round/fc8e349074d36ca828d552ca8926f50d   \n",
       "3                   /funding-round/fe82bf9c5c1fc55ec969598a9e37b8bb   \n",
       "4                   /funding-round/f65f2ec6cc1f2a5d9a79a73425ddb8b5   \n",
       "5                   /funding-round/cf975d2ebef9638827f5241ef39ec2c0   \n",
       "6                   /funding-round/fa2aa87aeebc39a83935c2a2b9f8abfa   \n",
       "11                  /funding-round/f5bfb72ce6faea78f9d92b8b62c9c0a2   \n",
       "14                  /funding-round/f0eb5c4aec947ebed9c7a9b28eed1662   \n",
       "17                  /funding-round/ff66f0352285651b74e60ade063c4af4   \n",
       "\n",
       "                   funding_round_type  funding_at  raised_amount_usd  \\\n",
       "main_sector_counts                                                     \n",
       "1                             venture  30-03-2015         11600000.0   \n",
       "2                             venture  31-03-2008         14032336.0   \n",
       "3                             venture  28-11-2012         14000000.0   \n",
       "4                             venture  30-05-2014         13637262.0   \n",
       "5                             venture  29-09-2008         13600000.0   \n",
       "6                             venture  31-03-2011         14906222.0   \n",
       "11                            venture  29-01-2008         13381200.0   \n",
       "14                            venture  28-09-2015         14656237.0   \n",
       "17                            venture  31-03-2014         14000000.0   \n",
       "\n",
       "                                primary_sector  raised_amount_usd_y  \n",
       "main_sector_counts                                                   \n",
       "1                   Social, Finance, Analytics           26647666.0  \n",
       "2                   Social, Finance, Analytics          121287194.0  \n",
       "3                   Social, Finance, Analytics          147835051.0  \n",
       "4                   Social, Finance, Analytics          100479358.0  \n",
       "5                   Cleantech / Semiconductors          234930853.0  \n",
       "6                                       Others          543581989.0  \n",
       "11                                      Others          210339734.0  \n",
       "14                  Social, Finance, Analytics          144133096.0  \n",
       "17                  Social, Finance, Analytics          319817324.0  "
      ]
     },
     "execution_count": 371,
     "metadata": {},
     "output_type": "execute_result"
    }
   ],
   "source": [
    "D3.groupby('main_sector_counts').max()"
   ]
  },
  {
   "cell_type": "markdown",
   "metadata": {},
   "source": [
    "## CheckPoint 6: Plots"
   ]
  },
  {
   "cell_type": "markdown",
   "metadata": {},
   "source": [
    "### 6.1 Plot to show the best funding type"
   ]
  },
  {
   "cell_type": "code",
   "execution_count": 372,
   "metadata": {},
   "outputs": [
    {
     "data": {
      "text/html": [
       "<div>\n",
       "<style scoped>\n",
       "    .dataframe tbody tr th:only-of-type {\n",
       "        vertical-align: middle;\n",
       "    }\n",
       "\n",
       "    .dataframe tbody tr th {\n",
       "        vertical-align: top;\n",
       "    }\n",
       "\n",
       "    .dataframe thead th {\n",
       "        text-align: right;\n",
       "    }\n",
       "</style>\n",
       "<table border=\"1\" class=\"dataframe\">\n",
       "  <thead>\n",
       "    <tr style=\"text-align: right;\">\n",
       "      <th></th>\n",
       "      <th>raised_amount_usd</th>\n",
       "      <th>fraction_invested</th>\n",
       "      <th>funding_round_type</th>\n",
       "    </tr>\n",
       "    <tr>\n",
       "      <th>funding_round_type</th>\n",
       "      <th></th>\n",
       "      <th></th>\n",
       "      <th></th>\n",
       "    </tr>\n",
       "  </thead>\n",
       "  <tbody>\n",
       "    <tr>\n",
       "      <th>private_equity</th>\n",
       "      <td>9.247174e+06</td>\n",
       "      <td>0.000076</td>\n",
       "      <td>private_equity</td>\n",
       "    </tr>\n",
       "    <tr>\n",
       "      <th>venture</th>\n",
       "      <td>8.894574e+06</td>\n",
       "      <td>0.000073</td>\n",
       "      <td>venture</td>\n",
       "    </tr>\n",
       "    <tr>\n",
       "      <th>seed</th>\n",
       "      <td>6.996054e+06</td>\n",
       "      <td>0.000057</td>\n",
       "      <td>seed</td>\n",
       "    </tr>\n",
       "  </tbody>\n",
       "</table>\n",
       "</div>"
      ],
      "text/plain": [
       "                    raised_amount_usd  fraction_invested funding_round_type\n",
       "funding_round_type                                                         \n",
       "private_equity           9.247174e+06           0.000076     private_equity\n",
       "venture                  8.894574e+06           0.000073            venture\n",
       "seed                     6.996054e+06           0.000057               seed"
      ]
     },
     "execution_count": 372,
     "metadata": {},
     "output_type": "execute_result"
    }
   ],
   "source": [
    "# Making a data frame consisting of the raised_amount_usd  mean , funding_round_type and fraction_invested\n",
    "# for the selected funding types\n",
    "\n",
    "total_investment=master_frame['raised_amount_usd'].astype(float).sum()\n",
    "#calcualting and storing the mean in the dataframe\n",
    "groupedByfundingType=pd.DataFrame(master_frame.groupby(['funding_round_type']).raised_amount_usd.mean())\n",
    "\n",
    "\n",
    "groupedByfundingType['fraction_invested']=groupedByfundingType['raised_amount_usd']/total_investment\n",
    "groupedByfundingType.sort_values(by='fraction_invested',ascending=False,inplace=True)\n",
    "\n",
    "groupedByfundingType['funding_round_type']=groupedByfundingType.index\n",
    "\n",
    "# filtering the dataframe to include only the funding types selected \n",
    "filterByfundingType=(groupedByfundingType['funding_round_type']=='venture') |(groupedByfundingType['funding_round_type']=='seed')|(groupedByfundingType['funding_round_type']=='private_equity')\n",
    "groupedByfundingType=groupedByfundingType[filterByfundingType]\n",
    "groupedByfundingType.head()"
   ]
  },
  {
   "cell_type": "code",
   "execution_count": 373,
   "metadata": {},
   "outputs": [
    {
     "data": {
      "text/plain": [
       "array(['private_equity', 'venture', 'seed'], dtype=object)"
      ]
     },
     "execution_count": 373,
     "metadata": {},
     "output_type": "execute_result"
    }
   ],
   "source": [
    "# converting the fractioninvested and raised_amount_usd (mean) columns to arrays to plot \n",
    "fraction_invested_array_x=groupedByfundingType.iloc[:,1].values\n",
    "raised_amount_usd_mean_y=groupedByfundingType.iloc[:,0].values\n",
    "objects=groupedByfundingType.iloc[:,2].values\n",
    "objects\n",
    "\n"
   ]
  },
  {
   "cell_type": "code",
   "execution_count": 374,
   "metadata": {},
   "outputs": [
    {
     "data": {
      "image/png": "[encoded data removed]",
      "text/plain": [
       "<Figure size 640x480 with 1 Axes>"
      ]
     },
     "metadata": {},
     "output_type": "display_data"
    }
   ],
   "source": [
    "# Finally , plotting the raised_amount_usd_mean_y (Y axis) against the fraction_invested_array_x(X axis)\n",
    "import matplotlib.pyplot as plt; plt.rcdefaults()\n",
    "ax=groupedByfundingType.plot(kind='bar',x='fraction_invested',y='raised_amount_usd',title='Plot to show the best funding type')\n",
    "ax.set_xlabel(\"Fraction invested\")\n",
    "ax.set_ylabel(\"Raised amount in USD\")\n",
    "plt.show()"
   ]
  },
  {
   "cell_type": "markdown",
   "metadata": {},
   "source": [
    "\n",
    "\n",
    "### 6.2 - Plotting  Top 9 countries against the total amount of investments"
   ]
  },
  {
   "cell_type": "code",
   "execution_count": 377,
   "metadata": {},
   "outputs": [],
   "source": [
    "#filtering the master_frame for venture type investments\n",
    "df2=master_frame[master_frame.funding_round_type=='venture']\n",
    "\n",
    "# group by country codes to compare the total funding amounts\n",
    "country_wise_total=pd.DataFrame(df2.groupby('country_code')['raised_amount_usd'].sum().sort_values(ascending=False))\n",
    "\n",
    "#make a dataframe top9_countries with the top nine countries \n",
    "\n",
    "top9_countries=country_wise_total.head(9)"
   ]
  },
  {
   "cell_type": "code",
   "execution_count": 384,
   "metadata": {},
   "outputs": [
    {
     "name": "stderr",
     "output_type": "stream",
     "text": [
      "C:\\Users\\ybhatt2\\AppData\\Local\\Continuum\\anaconda3\\lib\\site-packages\\ipykernel_launcher.py:8: SettingWithCopyWarning: \n",
      "A value is trying to be set on a copy of a slice from a DataFrame.\n",
      "Try using .loc[row_indexer,col_indexer] = value instead\n",
      "\n",
      "See the caveats in the documentation: http://pandas.pydata.org/pandas-docs/stable/indexing.html#indexing-view-versus-copy\n",
      "  \n",
      "C:\\Users\\ybhatt2\\AppData\\Local\\Continuum\\anaconda3\\lib\\site-packages\\ipykernel_launcher.py:9: SettingWithCopyWarning: \n",
      "A value is trying to be set on a copy of a slice from a DataFrame.\n",
      "Try using .loc[row_indexer,col_indexer] = value instead\n",
      "\n",
      "See the caveats in the documentation: http://pandas.pydata.org/pandas-docs/stable/indexing.html#indexing-view-versus-copy\n",
      "  if __name__ == '__main__':\n"
     ]
    },
    {
     "data": {
      "text/html": [
       "<div>\n",
       "<style scoped>\n",
       "    .dataframe tbody tr th:only-of-type {\n",
       "        vertical-align: middle;\n",
       "    }\n",
       "\n",
       "    .dataframe tbody tr th {\n",
       "        vertical-align: top;\n",
       "    }\n",
       "\n",
       "    .dataframe thead th {\n",
       "        text-align: right;\n",
       "    }\n",
       "</style>\n",
       "<table border=\"1\" class=\"dataframe\">\n",
       "  <thead>\n",
       "    <tr style=\"text-align: right;\">\n",
       "      <th></th>\n",
       "      <th>raised_amount_usd</th>\n",
       "      <th>english_speaking_countries</th>\n",
       "      <th>country_code</th>\n",
       "    </tr>\n",
       "    <tr>\n",
       "      <th>country_code</th>\n",
       "      <th></th>\n",
       "      <th></th>\n",
       "      <th></th>\n",
       "    </tr>\n",
       "  </thead>\n",
       "  <tbody>\n",
       "    <tr>\n",
       "      <th>USA</th>\n",
       "      <td>8.960135e+10</td>\n",
       "      <td>True</td>\n",
       "      <td>USA</td>\n",
       "    </tr>\n",
       "    <tr>\n",
       "      <th>CHN</th>\n",
       "      <td>3.861561e+09</td>\n",
       "      <td>True</td>\n",
       "      <td>CHN</td>\n",
       "    </tr>\n",
       "    <tr>\n",
       "      <th>CAN</th>\n",
       "      <td>3.192010e+09</td>\n",
       "      <td>True</td>\n",
       "      <td>CAN</td>\n",
       "    </tr>\n",
       "  </tbody>\n",
       "</table>\n",
       "</div>"
      ],
      "text/plain": [
       "              raised_amount_usd  english_speaking_countries country_code\n",
       "country_code                                                            \n",
       "USA                8.960135e+10                        True          USA\n",
       "CHN                3.861561e+09                        True          CHN\n",
       "CAN                3.192010e+09                        True          CAN"
      ]
     },
     "execution_count": 384,
     "metadata": {},
     "output_type": "execute_result"
    }
   ],
   "source": [
    "# Identify the top 3 English speaking countries \n",
    "\n",
    "#getting english population data from wiki in order ['USA','CHN','GBR','IND','CAN','FRA','ISR','DEU','JPN']\n",
    "population=[True,False,True,True,True,False,True,False,False]\n",
    "\n",
    "#Adding a column English Speaking population in the top9_countries dataframe\n",
    "\n",
    "top9_countries['english_speaking_countries']=population\n",
    "top9_countries['country_code']=top9_countries.index\n",
    "#finding top 3 countries \n",
    "top3=top9_countries.sort_values(by='english_speaking_countries',ascending=False)\n",
    "top3.head(3)"
   ]
  },
  {
   "cell_type": "code",
   "execution_count": 431,
   "metadata": {},
   "outputs": [
    {
     "data": {
      "image/png": "[encoded data removed]",
      "text/plain": [
       "<Figure size 640x480 with 1 Axes>"
      ]
     },
     "metadata": {},
     "output_type": "display_data"
    }
   ],
   "source": [
    "\n",
    "\n",
    "#Finally , plot the results\n",
    "\n",
    "ax=top9_countries.plot(kind='bar',x='country_code',y='raised_amount_usd',title='Top 9 Countries',logy=True)\n",
    "ax.set_xlabel(\"Country Code\")\n",
    "ax.set_ylabel(\"Raised amount in USD\")\n",
    "plt.show()"
   ]
  },
  {
   "cell_type": "markdown",
   "metadata": {},
   "source": [
    "### 6.3 A plot showing the number of investments in the top 3 sectors of the top 3 countries on one chart (for the chosen investment type FT)."
   ]
  },
  {
   "cell_type": "code",
   "execution_count": 434,
   "metadata": {
    "scrolled": false
   },
   "outputs": [
    {
     "data": {
      "image/png": "[encoded data removed]",
      "text/plain": [
       "<Figure size 640x480 with 1 Axes>"
      ]
     },
     "metadata": {},
     "output_type": "display_data"
    }
   ],
   "source": [
    "# Filtering the Dataframes D1, D2 , D3 to contain only venture type\n",
    "import numpy as np\n",
    "\n",
    "\n",
    "D4=D1[(D1.main_sector=='Software')|(D1.main_sector=='E-Commerce')|(D1.main_sector=='Mobile')]\n",
    "D5=D2[(D2.main_sector=='Software')|(D2.main_sector=='E-Commerce')|(D2.main_sector=='Mobile')]\n",
    "D6=D3[(D3.main_sector=='Software')|(D3.main_sector=='E-Commerce')|(D3.main_sector=='Mobile')]\n",
    "\n",
    "\n",
    "\n",
    "\n",
    "ax=D4.plot(kind='bar',x='main_sector',y='main_sector_counts',title='Top 3 sector of Country 1')\n",
    "ax.set_xlabel(\"Main Sector\")\n",
    "ax.set_ylabel(\"Investment Count\")\n",
    "plt.show()\n",
    "\n"
   ]
  },
  {
   "cell_type": "code",
   "execution_count": 428,
   "metadata": {},
   "outputs": [
    {
     "data": {
      "image/png": "[encoded data removed]",
      "text/plain": [
       "<Figure size 640x480 with 1 Axes>"
      ]
     },
     "metadata": {},
     "output_type": "display_data"
    }
   ],
   "source": [
    "\n",
    "ax=D5.plot(kind='bar',x='main_sector',y='main_sector_counts',title='Top 3 sector of Country 2')\n",
    "ax.set_xlabel(\"Main Sector\")\n",
    "ax.set_ylabel(\"Raised amount in USD\")\n",
    "plt.show()\n",
    "\n"
   ]
  },
  {
   "cell_type": "code",
   "execution_count": 435,
   "metadata": {},
   "outputs": [
    {
     "data": {
      "image/png": "[encoded data removed]",
      "text/plain": [
       "<Figure size 640x480 with 1 Axes>"
      ]
     },
     "metadata": {},
     "output_type": "display_data"
    }
   ],
   "source": [
    "\n",
    "ax=D6.plot(kind='bar',x='main_sector',y='main_sector_counts',title='Top 3 sector of Country 3')\n",
    "ax.set_xlabel(\"Main Sector\")\n",
    "ax.set_ylabel(\"Raised amount in USD\")\n",
    "plt.show()"
   ]
  },
  {
   "cell_type": "code",
   "execution_count": null,
   "metadata": {},
   "outputs": [],
   "source": []
  }
 ],
 "metadata": {
  "kernelspec": {
   "display_name": "Python 3",
   "language": "python",
   "name": "python3"
  },
  "language_info": {
   "codemirror_mode": {
    "name": "ipython",
    "version": 3
   },
   "file_extension": ".py",
   "mimetype": "text/x-python",
   "name": "python",
   "nbconvert_exporter": "python",
   "pygments_lexer": "ipython3",
   "version": "3.7.3"
  }
 },
 "nbformat": 4,
 "nbformat_minor": 2
}
